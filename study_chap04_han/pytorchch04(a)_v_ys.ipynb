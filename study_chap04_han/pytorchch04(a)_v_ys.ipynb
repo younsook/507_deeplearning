{
 "cells": [
  {
   "cell_type": "markdown",
   "id": "bb04bff3",
   "metadata": {},
   "source": [
    "# 파이토치를 활용한 회귀모델\n",
    "\n",
    "> California Housing EDA and Modeling"
   ]
  },
  {
   "cell_type": "code",
   "execution_count": 2,
   "id": "eb98c6a0",
   "metadata": {},
   "outputs": [
    {
     "data": {
      "text/plain": [
       "<Figure size 1000x600 with 0 Axes>"
      ]
     },
     "execution_count": 2,
     "metadata": {},
     "output_type": "execute_result"
    },
    {
     "data": {
      "text/plain": [
       "<Figure size 1000x600 with 0 Axes>"
      ]
     },
     "metadata": {},
     "output_type": "display_data"
    }
   ],
   "source": [
    "import numpy as np\n",
    "import pandas as pd\n",
    "import matplotlib.pyplot as plt\n",
    "import seaborn as sns\n",
    "\n",
    "plt.rcParams['font.family'] = 'Malgun Gothic'\n",
    "plt.rcParams['axes.unicode_minus'] = False\n",
    "plt.figure(figsize=(10, 6))"
   ]
  },
  {
   "cell_type": "code",
   "execution_count": 3,
   "id": "13600afd",
   "metadata": {},
   "outputs": [],
   "source": [
    "from sklearn.model_selection import train_test_split, cross_val_score, GridSearchCV, RandomizedSearchCV, KFold\n",
    "from sklearn.preprocessing import StandardScaler, OneHotEncoder, PolynomialFeatures\n",
    "from sklearn.impute import SimpleImputer\n",
    "from sklearn.linear_model import LinearRegression, Ridge, Lasso\n",
    "from sklearn.ensemble import RandomForestRegressor\n",
    "from sklearn.metrics import r2_score, mean_squared_error, make_scorer"
   ]
  },
  {
   "cell_type": "code",
   "execution_count": 4,
   "id": "43d6fa26",
   "metadata": {},
   "outputs": [
    {
     "data": {
      "text/plain": [
       "device(type='cpu')"
      ]
     },
     "execution_count": 4,
     "metadata": {},
     "output_type": "execute_result"
    }
   ],
   "source": [
    "import torch\n",
    "import torch.nn as nn #은닉층같은것을 다른사람이 만들어 놓은것을 불러오는것\n",
    "import torch.optim as optim #최적화함수\n",
    "from torch.utils.data import Dataset, DataLoader, TensorDataset #입력층 \n",
    "\n",
    "#PyTorch 설정\n",
    "device = torch.device(\"cuda\" if torch.cuda.is_available() else \"cpu\")\n",
    "device\n"
   ]
  },
  {
   "cell_type": "code",
   "execution_count": 6,
   "id": "bfbfb84f",
   "metadata": {},
   "outputs": [],
   "source": [
    "from pathlib import Path\n",
    "DATA_PATH = Path(\"data/housing.csv\")\n",
    "df = pd.read_csv(DATA_PATH)\n",
    "# print(df.describe())\n",
    "# print(df.isnull().sum())"
   ]
  },
  {
   "cell_type": "code",
   "execution_count": 7,
   "id": "e737188a",
   "metadata": {},
   "outputs": [],
   "source": [
    "corr = df.corr(numeric_only=True)\n",
    "target_corr = corr[\"median_house_value\"].sort_values(ascending=False)\n",
    "# print(\"타겟과의 상관관계:\")\n",
    "# print(target_corr)"
   ]
  },
  {
   "cell_type": "code",
   "execution_count": 8,
   "id": "24fedfe5",
   "metadata": {},
   "outputs": [],
   "source": [
    "# %%\n",
    "X = df.drop(\"median_house_value\", axis=1)\n",
    "y = df[\"median_house_value\"]\n",
    "\n",
    "num_features = X.select_dtypes(include=[\"float64\", \"int64\", \"float32\", \"int32\"]).columns.tolist()\n",
    "cat_features = [\"ocean_proximity\"]\n",
    "\n",
    "X_train, X_test, y_train, y_test = train_test_split(X, y, test_size=0.2, random_state=42)"
   ]
  },
  {
   "cell_type": "code",
   "execution_count": 11,
   "id": "36cb69c0",
   "metadata": {},
   "outputs": [
    {
     "name": "stdout",
     "output_type": "stream",
     "text": [
      "데이터 전처리 중...\n",
      "전처리된 훈련 데이터 형태: (16512, 13)\n",
      "전처리된 테스트 데이터 형태: (4128, 13)\n",
      "X_train_tensor 형태: torch.Size([16512, 13])\n",
      "X_test_tensor 형태: torch.Size([4128, 13])\n",
      "y_train_tensor 형태: torch.Size([16512])\n",
      "y_test_tensor 형태: torch.Size([4128])\n"
     ]
    }
   ],
   "source": [
    "# 기본 전처리 (파이프라인 없이)\n",
    "print(\"데이터 전처리 중...\")\n",
    "\n",
    "# 숫자형 피처 전처리\n",
    "imputer = SimpleImputer(strategy=\"median\")\n",
    "X_train_num = imputer.fit_transform(X_train[num_features])\n",
    "X_test_num = imputer.transform(X_test[num_features])\n",
    "\n",
    "scaler = StandardScaler()\n",
    "X_train_num_scaled = scaler.fit_transform(X_train_num)\n",
    "X_test_num_scaled = scaler.transform(X_test_num)\n",
    "\n",
    "# 범주형 피처 전처리\n",
    "encoder = OneHotEncoder()\n",
    "X_train_cat = encoder.fit_transform(X_train[cat_features]).toarray()\n",
    "X_test_cat = encoder.transform(X_test[cat_features]).toarray()\n",
    "\n",
    "# 전처리된 데이터 결합\n",
    "X_train_processed = np.hstack([X_train_num_scaled, X_train_cat])\n",
    "X_test_processed = np.hstack([X_test_num_scaled, X_test_cat])\n",
    "\n",
    "print(f\"전처리된 훈련 데이터 형태: {X_train_processed.shape}\")\n",
    "print(f\"전처리된 테스트 데이터 형태: {X_test_processed.shape}\")\n",
    "\n",
    "# 타겟값도 스케일링을 추가(매우 중요합니다!)\n",
    "y_scaler = StandardScaler()\n",
    "y_train_scaled = y_scaler.fit_transform(y_train.values.reshape(-1,1)).flatten()\n",
    "y_test_scaled = y_scaler.fit_transform(y_test.values.reshape(-1,1)).flatten()\n",
    "\n",
    "# Numpy -> Tensor로 변경해야 됨. (지도학습)\n",
    "X_train_tensor = torch.FloatTensor(X_train_processed)\n",
    "X_test_tensor = torch.FloatTensor(X_test_processed)\n",
    "y_train_tensor = torch.FloatTensor(y_train_scaled)\n",
    "y_test_tensor = torch.FloatTensor(y_test_scaled)\n",
    "\n",
    "print(f\"X_train_tensor 형태: {X_train_tensor.shape}\")\n",
    "print(f\"X_test_tensor 형태: {X_test_tensor.shape}\")\n",
    "print(f\"y_train_tensor 형태: {y_train_tensor.shape}\")\n",
    "print(f\"y_test_tensor 형태: {y_test_tensor.shape}\")\n"
   ]
  },
  {
   "cell_type": "code",
   "execution_count": 12,
   "id": "4212a525",
   "metadata": {},
   "outputs": [],
   "source": [
    "#PyTorch 모델을 정의해봅시다. (생성자와 순방향은 내가 만들어야한다. 역방향은 안만든다)\n",
    "class LinearRegressionModel(nn.Module):\n",
    "    def __init__(self, input_dim): #생성자를 만들때 도대체 어떤 인수가 필요한가요?\n",
    "        super().__init__()\n",
    "        self.liner = nn.Linear(input_dim, 1)\n",
    "\n",
    "    def forward(self, x):\n",
    "        return self.liner(X)"
   ]
  },
  {
   "cell_type": "markdown",
   "id": "344f33b9",
   "metadata": {},
   "source": [
    "딥러닝 트레인 필수 코스 \n",
    "책의 내용은 여기저기 흩어져있다. 이렇게 작성된것을 잘기억해야한다.\n",
    "loss 값 구해야한다. "
   ]
  },
  {
   "cell_type": "code",
   "execution_count": 21,
   "id": "062330a2",
   "metadata": {},
   "outputs": [],
   "source": [
    "def train_model(model, X_train, y_train, X_val, y_val, epochs=1000, lr=0.001, patience=50):\n",
    "    #활성화 함수\n",
    "    #손실함수\n",
    "    #최적화함수\n",
    "    criterion = nn.MSELoss()\n",
    "    optimizer = optim.Adam(model.parameters(), lr=lr)\n",
    "    #optimizer = optim.Adam(model.parameters(), lr=lr, weight_decay=1e-5)\n",
    "\n",
    "    train_losses = []\n",
    "    val_losses = []\n",
    "\n",
    "    for epoch in range(epochs):\n",
    "        #1. 학습 \n",
    "        model.train()\n",
    "        #2. 초기화 (기존꺼 버리고 0으로 초기화)\n",
    "        optimizer.zero_grad()\n",
    "\n",
    "        train_pred = model(X_train)\n",
    "        train_loss = criterion(train_pred, y_train)\n",
    "        #loss로부터 역전파\n",
    "        train_loss.backward()\n",
    "        optimizer.step() #모델이 수정된것 \n",
    "#검증해야함. 필요 1. 기울기를 움직이지 않도록 고정시켜야함.\n",
    "        model.eval() #모델에 있는거 손대지마, 검증모델을 만들어 \n",
    "        with torch.no_grad():\n",
    "            val_pred = model(X_val)\n",
    "            val_loss = criterion(val_pred, y_val)\n",
    "\n",
    "        train_losses.append(train_loss)\n",
    "        val_losses.append(val_loss)\n",
    "\n",
    "        print(f\"train_losses: {train_losses}\")\n",
    "        print(f\"val_losses: {val_losses}\")"
   ]
  },
  {
   "cell_type": "code",
   "execution_count": 20,
   "id": "fcc76bb9",
   "metadata": {},
   "outputs": [],
   "source": [
    "lr = LinearRegressionModel(X_test_tensor.shape[1])\n",
    "#train_model(lr, X_test_tensor, y_test_tensor, )\n",
    "n_train = int(0.8*len(X_test_tensor))\n",
    "indices = torch.randperm(len(X_train_tensor))\n",
    "train_indices = indices[:n_train]\n",
    "val_indices = indices[n_train:]\n",
    "\n",
    "X_sub_train = X_train_tensor[train_indices]\n",
    "y_sub_train = y_train_tensor[train_indices]\n",
    "X_sub_val = X_train_tensor[val_indices]\n",
    "y_sub_val = y_train_tensor[val_indices]\n"
   ]
  },
  {
   "cell_type": "code",
   "execution_count": 22,
   "id": "dac27ef4",
   "metadata": {},
   "outputs": [
    {
     "ename": "TypeError",
     "evalue": "linear(): argument 'input' (position 1) must be Tensor, not DataFrame",
     "output_type": "error",
     "traceback": [
      "\u001b[31m---------------------------------------------------------------------------\u001b[39m",
      "\u001b[31mTypeError\u001b[39m                                 Traceback (most recent call last)",
      "\u001b[36mCell\u001b[39m\u001b[36m \u001b[39m\u001b[32mIn[22]\u001b[39m\u001b[32m, line 1\u001b[39m\n\u001b[32m----> \u001b[39m\u001b[32m1\u001b[39m \u001b[43mtrain_model\u001b[49m\u001b[43m(\u001b[49m\u001b[43mlr\u001b[49m\u001b[43m,\u001b[49m\u001b[43m \u001b[49m\u001b[43mX_sub_train\u001b[49m\u001b[43m,\u001b[49m\u001b[43m \u001b[49m\u001b[43my_sub_train\u001b[49m\u001b[43m,\u001b[49m\u001b[43m \u001b[49m\u001b[43mX_sub_val\u001b[49m\u001b[43m,\u001b[49m\u001b[43m \u001b[49m\u001b[43my_sub_val\u001b[49m\u001b[43m)\u001b[49m\n",
      "\u001b[36mCell\u001b[39m\u001b[36m \u001b[39m\u001b[32mIn[21]\u001b[39m\u001b[32m, line 18\u001b[39m, in \u001b[36mtrain_model\u001b[39m\u001b[34m(model, X_train, y_train, X_val, y_val, epochs, lr, patience)\u001b[39m\n\u001b[32m     15\u001b[39m \u001b[38;5;66;03m#2. 초기화 (기존꺼 버리고 0으로 초기화)\u001b[39;00m\n\u001b[32m     16\u001b[39m optimizer.zero_grad()\n\u001b[32m---> \u001b[39m\u001b[32m18\u001b[39m train_pred = \u001b[43mmodel\u001b[49m\u001b[43m(\u001b[49m\u001b[43mX_train\u001b[49m\u001b[43m)\u001b[49m\n\u001b[32m     19\u001b[39m train_loss = criterion(train_pred, y_train)\n\u001b[32m     20\u001b[39m \u001b[38;5;66;03m#loss로부터 역전파\u001b[39;00m\n",
      "\u001b[36mFile \u001b[39m\u001b[32m~\\AppData\\Roaming\\Python\\Python313\\site-packages\\torch\\nn\\modules\\module.py:1773\u001b[39m, in \u001b[36mModule._wrapped_call_impl\u001b[39m\u001b[34m(self, *args, **kwargs)\u001b[39m\n\u001b[32m   1771\u001b[39m     \u001b[38;5;28;01mreturn\u001b[39;00m \u001b[38;5;28mself\u001b[39m._compiled_call_impl(*args, **kwargs)  \u001b[38;5;66;03m# type: ignore[misc]\u001b[39;00m\n\u001b[32m   1772\u001b[39m \u001b[38;5;28;01melse\u001b[39;00m:\n\u001b[32m-> \u001b[39m\u001b[32m1773\u001b[39m     \u001b[38;5;28;01mreturn\u001b[39;00m \u001b[38;5;28;43mself\u001b[39;49m\u001b[43m.\u001b[49m\u001b[43m_call_impl\u001b[49m\u001b[43m(\u001b[49m\u001b[43m*\u001b[49m\u001b[43margs\u001b[49m\u001b[43m,\u001b[49m\u001b[43m \u001b[49m\u001b[43m*\u001b[49m\u001b[43m*\u001b[49m\u001b[43mkwargs\u001b[49m\u001b[43m)\u001b[49m\n",
      "\u001b[36mFile \u001b[39m\u001b[32m~\\AppData\\Roaming\\Python\\Python313\\site-packages\\torch\\nn\\modules\\module.py:1784\u001b[39m, in \u001b[36mModule._call_impl\u001b[39m\u001b[34m(self, *args, **kwargs)\u001b[39m\n\u001b[32m   1779\u001b[39m \u001b[38;5;66;03m# If we don't have any hooks, we want to skip the rest of the logic in\u001b[39;00m\n\u001b[32m   1780\u001b[39m \u001b[38;5;66;03m# this function, and just call forward.\u001b[39;00m\n\u001b[32m   1781\u001b[39m \u001b[38;5;28;01mif\u001b[39;00m \u001b[38;5;129;01mnot\u001b[39;00m (\u001b[38;5;28mself\u001b[39m._backward_hooks \u001b[38;5;129;01mor\u001b[39;00m \u001b[38;5;28mself\u001b[39m._backward_pre_hooks \u001b[38;5;129;01mor\u001b[39;00m \u001b[38;5;28mself\u001b[39m._forward_hooks \u001b[38;5;129;01mor\u001b[39;00m \u001b[38;5;28mself\u001b[39m._forward_pre_hooks\n\u001b[32m   1782\u001b[39m         \u001b[38;5;129;01mor\u001b[39;00m _global_backward_pre_hooks \u001b[38;5;129;01mor\u001b[39;00m _global_backward_hooks\n\u001b[32m   1783\u001b[39m         \u001b[38;5;129;01mor\u001b[39;00m _global_forward_hooks \u001b[38;5;129;01mor\u001b[39;00m _global_forward_pre_hooks):\n\u001b[32m-> \u001b[39m\u001b[32m1784\u001b[39m     \u001b[38;5;28;01mreturn\u001b[39;00m \u001b[43mforward_call\u001b[49m\u001b[43m(\u001b[49m\u001b[43m*\u001b[49m\u001b[43margs\u001b[49m\u001b[43m,\u001b[49m\u001b[43m \u001b[49m\u001b[43m*\u001b[49m\u001b[43m*\u001b[49m\u001b[43mkwargs\u001b[49m\u001b[43m)\u001b[49m\n\u001b[32m   1786\u001b[39m result = \u001b[38;5;28;01mNone\u001b[39;00m\n\u001b[32m   1787\u001b[39m called_always_called_hooks = \u001b[38;5;28mset\u001b[39m()\n",
      "\u001b[36mCell\u001b[39m\u001b[36m \u001b[39m\u001b[32mIn[12]\u001b[39m\u001b[32m, line 8\u001b[39m, in \u001b[36mLinearRegressionModel.forward\u001b[39m\u001b[34m(self, x)\u001b[39m\n\u001b[32m      7\u001b[39m \u001b[38;5;28;01mdef\u001b[39;00m\u001b[38;5;250m \u001b[39m\u001b[34mforward\u001b[39m(\u001b[38;5;28mself\u001b[39m, x):\n\u001b[32m----> \u001b[39m\u001b[32m8\u001b[39m     \u001b[38;5;28;01mreturn\u001b[39;00m \u001b[38;5;28;43mself\u001b[39;49m\u001b[43m.\u001b[49m\u001b[43mliner\u001b[49m\u001b[43m(\u001b[49m\u001b[43mX\u001b[49m\u001b[43m)\u001b[49m\n",
      "\u001b[36mFile \u001b[39m\u001b[32m~\\AppData\\Roaming\\Python\\Python313\\site-packages\\torch\\nn\\modules\\module.py:1773\u001b[39m, in \u001b[36mModule._wrapped_call_impl\u001b[39m\u001b[34m(self, *args, **kwargs)\u001b[39m\n\u001b[32m   1771\u001b[39m     \u001b[38;5;28;01mreturn\u001b[39;00m \u001b[38;5;28mself\u001b[39m._compiled_call_impl(*args, **kwargs)  \u001b[38;5;66;03m# type: ignore[misc]\u001b[39;00m\n\u001b[32m   1772\u001b[39m \u001b[38;5;28;01melse\u001b[39;00m:\n\u001b[32m-> \u001b[39m\u001b[32m1773\u001b[39m     \u001b[38;5;28;01mreturn\u001b[39;00m \u001b[38;5;28;43mself\u001b[39;49m\u001b[43m.\u001b[49m\u001b[43m_call_impl\u001b[49m\u001b[43m(\u001b[49m\u001b[43m*\u001b[49m\u001b[43margs\u001b[49m\u001b[43m,\u001b[49m\u001b[43m \u001b[49m\u001b[43m*\u001b[49m\u001b[43m*\u001b[49m\u001b[43mkwargs\u001b[49m\u001b[43m)\u001b[49m\n",
      "\u001b[36mFile \u001b[39m\u001b[32m~\\AppData\\Roaming\\Python\\Python313\\site-packages\\torch\\nn\\modules\\module.py:1784\u001b[39m, in \u001b[36mModule._call_impl\u001b[39m\u001b[34m(self, *args, **kwargs)\u001b[39m\n\u001b[32m   1779\u001b[39m \u001b[38;5;66;03m# If we don't have any hooks, we want to skip the rest of the logic in\u001b[39;00m\n\u001b[32m   1780\u001b[39m \u001b[38;5;66;03m# this function, and just call forward.\u001b[39;00m\n\u001b[32m   1781\u001b[39m \u001b[38;5;28;01mif\u001b[39;00m \u001b[38;5;129;01mnot\u001b[39;00m (\u001b[38;5;28mself\u001b[39m._backward_hooks \u001b[38;5;129;01mor\u001b[39;00m \u001b[38;5;28mself\u001b[39m._backward_pre_hooks \u001b[38;5;129;01mor\u001b[39;00m \u001b[38;5;28mself\u001b[39m._forward_hooks \u001b[38;5;129;01mor\u001b[39;00m \u001b[38;5;28mself\u001b[39m._forward_pre_hooks\n\u001b[32m   1782\u001b[39m         \u001b[38;5;129;01mor\u001b[39;00m _global_backward_pre_hooks \u001b[38;5;129;01mor\u001b[39;00m _global_backward_hooks\n\u001b[32m   1783\u001b[39m         \u001b[38;5;129;01mor\u001b[39;00m _global_forward_hooks \u001b[38;5;129;01mor\u001b[39;00m _global_forward_pre_hooks):\n\u001b[32m-> \u001b[39m\u001b[32m1784\u001b[39m     \u001b[38;5;28;01mreturn\u001b[39;00m \u001b[43mforward_call\u001b[49m\u001b[43m(\u001b[49m\u001b[43m*\u001b[49m\u001b[43margs\u001b[49m\u001b[43m,\u001b[49m\u001b[43m \u001b[49m\u001b[43m*\u001b[49m\u001b[43m*\u001b[49m\u001b[43mkwargs\u001b[49m\u001b[43m)\u001b[49m\n\u001b[32m   1786\u001b[39m result = \u001b[38;5;28;01mNone\u001b[39;00m\n\u001b[32m   1787\u001b[39m called_always_called_hooks = \u001b[38;5;28mset\u001b[39m()\n",
      "\u001b[36mFile \u001b[39m\u001b[32m~\\AppData\\Roaming\\Python\\Python313\\site-packages\\torch\\nn\\modules\\linear.py:125\u001b[39m, in \u001b[36mLinear.forward\u001b[39m\u001b[34m(self, input)\u001b[39m\n\u001b[32m    124\u001b[39m \u001b[38;5;28;01mdef\u001b[39;00m\u001b[38;5;250m \u001b[39m\u001b[34mforward\u001b[39m(\u001b[38;5;28mself\u001b[39m, \u001b[38;5;28minput\u001b[39m: Tensor) -> Tensor:\n\u001b[32m--> \u001b[39m\u001b[32m125\u001b[39m     \u001b[38;5;28;01mreturn\u001b[39;00m \u001b[43mF\u001b[49m\u001b[43m.\u001b[49m\u001b[43mlinear\u001b[49m\u001b[43m(\u001b[49m\u001b[38;5;28;43minput\u001b[39;49m\u001b[43m,\u001b[49m\u001b[43m \u001b[49m\u001b[38;5;28;43mself\u001b[39;49m\u001b[43m.\u001b[49m\u001b[43mweight\u001b[49m\u001b[43m,\u001b[49m\u001b[43m \u001b[49m\u001b[38;5;28;43mself\u001b[39;49m\u001b[43m.\u001b[49m\u001b[43mbias\u001b[49m\u001b[43m)\u001b[49m\n",
      "\u001b[31mTypeError\u001b[39m: linear(): argument 'input' (position 1) must be Tensor, not DataFrame"
     ]
    }
   ],
   "source": [
    "train_model(lr, X_sub_train, y_sub_train, X_sub_val, y_sub_val)"
   ]
  },
  {
   "cell_type": "markdown",
   "id": "debf2904",
   "metadata": {},
   "source": [
    "검증해야함.\n",
    " 필요 1. 기울기를 움직이지 않도록 고정시켜야함."
   ]
  },
  {
   "cell_type": "markdown",
   "id": "be9be175",
   "metadata": {},
   "source": []
  },
  {
   "cell_type": "code",
   "execution_count": 10,
   "id": "fe01eb5c",
   "metadata": {},
   "outputs": [
    {
     "name": "stdout",
     "output_type": "stream",
     "text": [
      "============================================================\n",
      "1단계: 기본 모델들의 교차 검증 성능 비교\n",
      "============================================================\n",
      "\n",
      "Linear Regression - 교차 검증 결과:\n",
      "-- RMSE: 68604.16 (+/- 2649.89)\n",
      "-- R^2: 0.6477 (+/- 0.0264)\n",
      "\n",
      "Ridge Regression - 교차 검증 결과:\n",
      "-- RMSE: 68595.60 (+/- 2632.15)\n",
      "-- R^2: 0.6478 (+/- 0.0265)\n",
      "\n",
      "Lasso Regression - 교차 검증 결과:\n",
      "-- RMSE: 68603.23 (+/- 2647.51)\n",
      "-- R^2: 0.6477 (+/- 0.0264)\n",
      "\n",
      "Random Forest - 교차 검증 결과:\n",
      "-- RMSE: 49424.12 (+/- 2463.17)\n",
      "-- R^2: 0.8172 (+/- 0.0110)\n"
     ]
    }
   ],
   "source": [
    "print(\"=\" * 60)\n",
    "print(\"1단계: 기본 모델들의 교차 검증 성능 비교\")\n",
    "print(\"=\" * 60)\n",
    "\n",
    "# 기본 모델들 평가\n",
    "models = {\n",
    "    'Linear Regression': LinearRegression(),\n",
    "    'Ridge Regression': Ridge(random_state=42, max_iter=5000),\n",
    "    'Lasso Regression': Lasso(random_state=42, max_iter=5000),\n",
    "    'Random Forest': RandomForestRegressor(random_state=42)\n",
    "}\n",
    "\n",
    "cv_results = []\n",
    "for name, model in models.items():\n",
    "    result = evaluate_model_cv(name, model, X_train_processed, y_train)\n",
    "    cv_results.append(result)"
   ]
  },
  {
   "cell_type": "code",
   "execution_count": 11,
   "id": "a5569e4e",
   "metadata": {},
   "outputs": [
    {
     "name": "stdout",
     "output_type": "stream",
     "text": [
      "\n",
      "============================================================\n",
      "2단계: 그리드 탐색을 통한 하이퍼파라미터 최적화\n",
      "============================================================\n",
      "Random Forest 그리드 탐색 중... (시간이 다소 소요됩니다)\n",
      "Random Forest Grid - 최적 파라미터: {'max_depth': None, 'min_samples_split': 2, 'n_estimators': 200}\n",
      "Random Forest Grid - 최적 RMSE: 49273.74\n"
     ]
    }
   ],
   "source": [
    "print(\"\\n\" + \"=\" * 60)\n",
    "print(\"2단계: 그리드 탐색을 통한 하이퍼파라미터 최적화\")\n",
    "print(\"=\" * 60)\n",
    "\n",
    "# Random Forest 그리드 탐색\n",
    "print(\"Random Forest 그리드 탐색 중... (시간이 다소 소요됩니다)\")\n",
    "rf_param_grid = {\n",
    "    'n_estimators': [50, 100, 200],\n",
    "    'max_depth': [5, 10, None],\n",
    "    'min_samples_split': [2, 5, 10]\n",
    "}\n",
    "rf_grid = GridSearchCV(\n",
    "    RandomForestRegressor(random_state=42, n_jobs=-1),\n",
    "    rf_param_grid,\n",
    "    cv=cv,\n",
    "    scoring='neg_mean_squared_error',\n",
    "    n_jobs=-1\n",
    ")\n",
    "rf_grid.fit(X_train_processed, y_train)\n",
    "print(f\"Random Forest Grid - 최적 파라미터: {rf_grid.best_params_}\")\n",
    "print(f\"Random Forest Grid - 최적 RMSE: {np.sqrt(-rf_grid.best_score_):.2f}\")"
   ]
  },
  {
   "cell_type": "code",
   "execution_count": 12,
   "id": "61d72d27",
   "metadata": {},
   "outputs": [
    {
     "name": "stdout",
     "output_type": "stream",
     "text": [
      "\n",
      "============================================================\n",
      "2-2단계: 랜덤 그리드 탐색을 통한 하이퍼파라미터 최적화\n",
      "============================================================\n",
      "Random Forest 랜덤 탐색 중...\n",
      "Random Forest Random - 최적 파라미터: {'max_depth': None, 'max_features': None, 'min_samples_leaf': 3, 'min_samples_split': 2, 'n_estimators': 165}\n",
      "Random Forest Random - 최적 RMSE: 49359.13\n",
      "그리드 탐색 vs 랜덤 탐색 비교\n",
      "Random Forest:\n",
      "  Grid Search RMSE: 49273.74\n",
      "  Random Search RMSE: 49359.13\n"
     ]
    }
   ],
   "source": [
    "print(\"\\n\" + \"=\" * 60)\n",
    "print(\"2-2단계: 랜덤 그리드 탐색을 통한 하이퍼파라미터 최적화\")\n",
    "print(\"=\" * 60)\n",
    "\n",
    "from scipy.stats import uniform, randint\n",
    "\n",
    "# Random Forest 랜덤 그리드 탐색\n",
    "print(\"Random Forest 랜덤 탐색 중...\")\n",
    "rf_param_dist = {\n",
    "    'n_estimators': randint(50, 300),        # 50~299 사이의 정수\n",
    "    'max_depth': [5, 10, 15, 20, None],      # 이산 값\n",
    "    'min_samples_split': randint(2, 20),     # 2~19 사이의 정수\n",
    "    'min_samples_leaf': randint(1, 10),      # 1~9 사이의 정수\n",
    "    'max_features': ['sqrt', 'log2', None]   # 특성 선택 방법\n",
    "}\n",
    "rf_random = RandomizedSearchCV(\n",
    "    RandomForestRegressor(random_state=42, n_jobs=-1),\n",
    "    rf_param_dist,\n",
    "    n_iter=100,  # 100개의 랜덤 조합 시도\n",
    "    cv=cv,\n",
    "    scoring='neg_mean_squared_error',\n",
    "    random_state=42,\n",
    "    n_jobs=-1\n",
    ")\n",
    "rf_random.fit(X_train_processed, y_train)\n",
    "print(f\"Random Forest Random - 최적 파라미터: {rf_random.best_params_}\")\n",
    "print(f\"Random Forest Random - 최적 RMSE: {np.sqrt(-rf_random.best_score_):.2f}\")\n",
    "\n",
    "print(\"그리드 탐색 vs 랜덤 탐색 비교\")\n",
    "print(\"Random Forest:\")\n",
    "print(f\"  Grid Search RMSE: {np.sqrt(-rf_grid.best_score_):.2f}\")\n",
    "print(f\"  Random Search RMSE: {np.sqrt(-rf_random.best_score_):.2f}\")"
   ]
  },
  {
   "cell_type": "code",
   "execution_count": 13,
   "id": "ee450278",
   "metadata": {},
   "outputs": [
    {
     "name": "stdout",
     "output_type": "stream",
     "text": [
      "\n",
      "============================================================\n",
      "3단계: 다항식 특성을 포함한 고급 모델\n",
      "============================================================\n",
      "다항식 특성 생성 중...\n",
      "다항식 특성 포함 훈련 데이터 형태: (16512, 49)\n",
      "다항식 Ridge 회귀 최적화 중...\n",
      "Polynomial Ridge - 최적 파라미터: {'alpha': 100.0}\n",
      "Polynomial Ridge - 최적 RMSE: 68948.37\n"
     ]
    }
   ],
   "source": [
    "print(\"\\n\" + \"=\" * 60)\n",
    "print(\"3단계: 다항식 특성을 포함한 고급 모델\")\n",
    "print(\"=\" * 60)\n",
    "\n",
    "# 다항식 특성 생성\n",
    "print(\"다항식 특성 생성 중...\")\n",
    "poly = PolynomialFeatures(degree=2, include_bias=False, interaction_only=False)\n",
    "X_train_num_poly = poly.fit_transform(X_train_num_scaled)\n",
    "X_test_num_poly = poly.transform(X_test_num_scaled)\n",
    "\n",
    "# 다항식 특성과 범주형 특성 결합\n",
    "X_train_poly_combined = np.hstack([X_train_num_poly, X_train_cat])\n",
    "X_test_poly_combined = np.hstack([X_test_num_poly, X_test_cat])\n",
    "\n",
    "print(f\"다항식 특성 포함 훈련 데이터 형태: {X_train_poly_combined.shape}\")\n",
    "\n",
    "# 다항식 Ridge 그리드 탐색\n",
    "print(\"다항식 Ridge 회귀 최적화 중...\")\n",
    "poly_param_grid = {'alpha': [0.1, 1.0, 10.0, 100.0]}\n",
    "poly_ridge_grid = GridSearchCV(\n",
    "    Ridge(random_state=42),\n",
    "    poly_param_grid,\n",
    "    cv=cv,\n",
    "    scoring='neg_mean_squared_error',\n",
    "    n_jobs=-1\n",
    ")\n",
    "poly_ridge_grid.fit(X_train_poly_combined, y_train)\n",
    "print(f\"Polynomial Ridge - 최적 파라미터: {poly_ridge_grid.best_params_}\")\n",
    "print(f\"Polynomial Ridge - 최적 RMSE: {np.sqrt(-poly_ridge_grid.best_score_):.2f}\")"
   ]
  },
  {
   "cell_type": "code",
   "execution_count": 14,
   "id": "bd63c6ad",
   "metadata": {},
   "outputs": [
    {
     "name": "stdout",
     "output_type": "stream",
     "text": [
      "\n",
      "============================================================\n",
      "4단계: 테스트 세트에서 최종 성능 평가\n",
      "============================================================\n",
      "\n",
      "Random Forest (Grid):\n",
      "-- Test R^2: 0.8184\n",
      "-- Test RMSE: 48781.91\n",
      "\n",
      "Random Forest (Random):\n",
      "-- Test R^2: 0.8168\n",
      "-- Test RMSE: 48993.53\n",
      "\n",
      "Polynomial Ridge (Grid):\n",
      "-- Test R^2: 0.6714\n",
      "-- Test RMSE: 65621.28\n"
     ]
    }
   ],
   "source": [
    "print(\"\\n\" + \"=\" * 60)\n",
    "print(\"4단계: 테스트 세트에서 최종 성능 평가\")\n",
    "print(\"=\" * 60)\n",
    "\n",
    "# 최적화된 모델들을 테스트 세트에서 평가 (그리드 탐색과 랜덤 탐색 결과 모두 포함)\n",
    "optimized_models = {\n",
    "    'Random Forest (Grid)': (rf_grid.best_estimator_, X_test_processed),\n",
    "    'Random Forest (Random)': (rf_random.best_estimator_, X_test_processed),\n",
    "    'Polynomial Ridge (Grid)': (poly_ridge_grid.best_estimator_, X_test_poly_combined)\n",
    "}\n",
    "\n",
    "final_results = []\n",
    "predictions_dict = {}\n",
    "\n",
    "for name, (model, X_test_data) in optimized_models.items():\n",
    "    # 테스트 예측\n",
    "    y_pred = model.predict(X_test_data)\n",
    "    predictions_dict[name] = y_pred\n",
    "    \n",
    "    # 성능 계산\n",
    "    r2 = r2_score(y_test, y_pred)\n",
    "    rmse = np.sqrt(mean_squared_error(y_test, y_pred))\n",
    "    \n",
    "    print(f\"\\n{name}:\")\n",
    "    print(f\"-- Test R^2: {r2:.4f}\")\n",
    "    print(f\"-- Test RMSE: {rmse:.2f}\")\n",
    "    \n",
    "    final_results.append({\n",
    "        'model': name,\n",
    "        'test_r2': r2,\n",
    "        'test_rmse': rmse\n",
    "    })"
   ]
  },
  {
   "cell_type": "code",
   "execution_count": 16,
   "id": "cbde6594",
   "metadata": {},
   "outputs": [
    {
     "name": "stdout",
     "output_type": "stream",
     "text": [
      "\n",
      "============================================================\n",
      "5단계: 특성 중요도 분석 (Random Forest)\n",
      "============================================================\n",
      "상위 10개 중요한 특성:\n",
      "                       feature  importance\n",
      "7                median_income    0.490384\n",
      "9       ocean_proximity_INLAND    0.141366\n",
      "0                    longitude    0.105698\n",
      "1                     latitude    0.101170\n",
      "2           housing_median_age    0.052319\n",
      "5                   population    0.032625\n",
      "3                  total_rooms    0.023652\n",
      "4               total_bedrooms    0.023641\n",
      "6                   households    0.018241\n",
      "12  ocean_proximity_NEAR OCEAN    0.006415\n"
     ]
    },
    {
     "data": {
      "image/png": "[encoded data removed]",
      "text/plain": [
       "<Figure size 1000x800 with 1 Axes>"
      ]
     },
     "metadata": {},
     "output_type": "display_data"
    }
   ],
   "source": [
    "print(\"\\n\" + \"=\" * 60)\n",
    "print(\"5단계: 특성 중요도 분석 (Random Forest)\")\n",
    "print(\"=\" * 60)\n",
    "\n",
    "# 최적화된 Random Forest에서 특성 중요도 추출\n",
    "rf_model = rf_grid.best_estimator_\n",
    "feature_names = num_features + list(encoder.get_feature_names_out(cat_features))\n",
    "\n",
    "importances = rf_model.feature_importances_\n",
    "fi_df = pd.DataFrame({\n",
    "    'feature': feature_names,\n",
    "    'importance': importances\n",
    "}).sort_values('importance', ascending=False)\n",
    "\n",
    "print(\"상위 10개 중요한 특성:\")\n",
    "print(fi_df.head(10))\n",
    "\n",
    "# 특성 중요도 시각화\n",
    "plt.figure(figsize=(10, 8))\n",
    "top_features = fi_df.head(10)\n",
    "plt.barh(range(len(top_features)), top_features['importance'])\n",
    "plt.yticks(range(len(top_features)), top_features['feature'])\n",
    "plt.xlabel('특성 중요도')\n",
    "plt.title('Random Forest - 상위 10개 특성 중요도')\n",
    "plt.gca().invert_yaxis()\n",
    "plt.tight_layout()\n",
    "plt.show()\n"
   ]
  }
 ],
 "metadata": {
  "kernelspec": {
   "display_name": "Python 3",
   "language": "python",
   "name": "python3"
  },
  "language_info": {
   "codemirror_mode": {
    "name": "ipython",
    "version": 3
   },
   "file_extension": ".py",
   "mimetype": "text/x-python",
   "name": "python",
   "nbconvert_exporter": "python",
   "pygments_lexer": "ipython3",
   "version": "3.13.4"
  }
 },
 "nbformat": 4,
 "nbformat_minor": 5
}
