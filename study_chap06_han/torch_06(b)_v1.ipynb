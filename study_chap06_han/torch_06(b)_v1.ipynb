{
 "cells": [
  {
   "cell_type": "markdown",
   "id": "efb78264",
   "metadata": {},
   "source": [
    "# ResNet-50을 활용해봅시다."
   ]
  },
  {
   "cell_type": "code",
   "execution_count": 1,
   "id": "5d36146c",
   "metadata": {},
   "outputs": [
    {
     "name": "stdout",
     "output_type": "stream",
     "text": [
      "cpu\n"
     ]
    }
   ],
   "source": [
    "import random\n",
    "import time\n",
    "from pathlib import Path\n",
    "\n",
    "import numpy as np\n",
    "import pandas as pd\n",
    "import matplotlib.pyplot as plt\n",
    "\n",
    "import torch\n",
    "import torch.nn as nn\n",
    "import torch.optim as optim\n",
    "\n",
    "from torchvision import transforms\n",
    "from torch.utils.data import Dataset, DataLoader\n",
    "\n",
    "from PIL import Image\n",
    "from tqdm import tqdm\n",
    "\n",
    "plt.rcParams[\"font.family\"] = \"Malgun Gothic\"\n",
    "plt.rcParams[\"axes.unicode_minus\"] = False\n",
    "\n",
    "device = torch.device(\"cuda\" if torch.cuda.is_available() else \"cpu\")\n",
    "print(device)\n",
    "\n",
    "random.seed(42)"
   ]
  },
  {
   "cell_type": "code",
   "execution_count": 2,
   "id": "bd33f6a0",
   "metadata": {},
   "outputs": [],
   "source": [
    "transform_train = (\n",
    "    transforms.Compose(\n",
    "        [\n",
    "            transforms.Resize((224, 224)),\n",
    "            transforms.Grayscale(num_output_channels=3),\n",
    "            transforms.ToTensor(),\n",
    "            transforms.Normalize(mean=[0.485, 0.456, 0.406], std=[0.229, 0.224, 0.225]),\n",
    "        ]\n",
    "    )\n",
    ")\n",
    "\n",
    "transform_test = (\n",
    "    transforms.Compose(\n",
    "        [\n",
    "            transforms.Resize((224, 224)),\n",
    "            transforms.Grayscale(num_output_channels=3),\n",
    "            transforms.ToTensor(),\n",
    "            transforms.Normalize(mean=[0.485, 0.456, 0.406], std=[0.229, 0.224, 0.225]),\n",
    "        ]\n",
    "    )\n",
    ")"
   ]
  },
  {
   "cell_type": "code",
   "execution_count": 3,
   "id": "01b57cbf",
   "metadata": {},
   "outputs": [],
   "source": [
    "import torchvision\n",
    "train_dataset = torchvision.datasets.MNIST(root=\"./data\", \n",
    "                                           train=True, \n",
    "                                           download=True, \n",
    "                                           transform=transform_train)\n",
    "test_dataset = torchvision.datasets.MNIST(root=\"./data\", \n",
    "                                           train=False, \n",
    "                                           download=True, \n",
    "                                           transform=transform_test)"
   ]
  },
  {
   "cell_type": "code",
   "execution_count": 4,
   "id": "2008e8f2",
   "metadata": {},
   "outputs": [],
   "source": [
    "train_loader = DataLoader(train_dataset, batch_size=64, shuffle=True)\n",
    "test_loader = DataLoader(test_dataset, batch_size=64, shuffle=False)"
   ]
  },
  {
   "cell_type": "code",
   "execution_count": 5,
   "id": "88296879",
   "metadata": {},
   "outputs": [],
   "source": [
    "# ResNet-50 모델 로드 및 전이학습 설정\n",
    "def create_resnet50_model(num_classes=10, pretrained=True):\n",
    "    if pretrained:\n",
    "        model = torchvision.models.resnet50(weights=torchvision.models.ResNet50_Weights.IMAGENET1K_V1)\n",
    "    else:\n",
    "        model = torchvision.models.resnet50(weights=None)\n",
    "\n",
    "    for param in model.parameters():\n",
    "        param.requires_grad = False\n",
    "    \n",
    "    num_feat = model.fc.in_features\n",
    "    model.fc = nn.Linear(num_feat, num_classes)\n",
    "    return model"
   ]
  },
  {
   "cell_type": "code",
   "execution_count": 6,
   "id": "6299c9cc",
   "metadata": {},
   "outputs": [],
   "source": [
    "def train_model(model, train_loader, criterion, optimizer):\n",
    "    model.train()\n",
    "    loss = 0.0\n",
    "    correct = 0\n",
    "    total = 0    \n",
    "    for _, (data, target) in enumerate(tqdm(train_loader)):\n",
    "        data = data.to(device)\n",
    "        target = target.to(device)\n",
    "        optimizer.zero_grad()\n",
    "        outputs = model(data)        \n",
    "        loss = criterion(outputs, target)\n",
    "        loss.backward()\n",
    "        optimizer.step()\n",
    "        loss += loss.item()\n",
    "        _, preds = torch.max(outputs.data, 1)\n",
    "        total += target.size(0)\n",
    "        correct += (preds == target).sum().item()    \n",
    "    avg_loss = loss / len(train_loader)\n",
    "    acc = 100 * correct / total    \n",
    "    return avg_loss, acc"
   ]
  },
  {
   "cell_type": "code",
   "execution_count": 7,
   "id": "faf7d9c6",
   "metadata": {},
   "outputs": [
    {
     "name": "stderr",
     "output_type": "stream",
     "text": [
      "100%|██████████| 938/938 [1:03:50<00:00,  4.08s/it]\n"
     ]
    }
   ],
   "source": [
    "model = create_resnet50_model()\n",
    "model = model.to(device)\n",
    "criterion = nn.CrossEntropyLoss()\n",
    "criterion = criterion.to(device)\n",
    "optimizer = optim.Adam(model.parameters(), lr=0.002)\n",
    "num_epoch = 10\n",
    "loss, acc = train_model(model, train_loader, criterion, optimizer)"
   ]
  },
  {
   "cell_type": "code",
   "execution_count": null,
   "id": "13674326",
   "metadata": {},
   "outputs": [],
   "source": []
  }
 ],
 "metadata": {
  "kernelspec": {
   "display_name": "Python 3",
   "language": "python",
   "name": "python3"
  },
  "language_info": {
   "codemirror_mode": {
    "name": "ipython",
    "version": 3
   },
   "file_extension": ".py",
   "mimetype": "text/x-python",
   "name": "python",
   "nbconvert_exporter": "python",
   "pygments_lexer": "ipython3",
   "version": "3.13.4"
  }
 },
 "nbformat": 4,
 "nbformat_minor": 5
}
