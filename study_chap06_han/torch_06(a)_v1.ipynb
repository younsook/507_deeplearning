{
 "cells": [
  {
   "cell_type": "markdown",
   "id": "efb78264",
   "metadata": {},
   "source": [
    "# LeNet-5 구현(이미지)\n",
    "## 구현 설계\n",
    "- 라이브러리 선정\n",
    "- 데이터를 불러와야 됨\n",
    "- 간단한 CNN 모델을 작성\n",
    "- 학습 및 평가"
   ]
  },
  {
   "cell_type": "code",
   "execution_count": 1,
   "id": "5d36146c",
   "metadata": {},
   "outputs": [
    {
     "name": "stdout",
     "output_type": "stream",
     "text": [
      "cpu\n"
     ]
    }
   ],
   "source": [
    "import random\n",
    "from pathlib import Path\n",
    "\n",
    "import numpy as np\n",
    "import pandas as pd\n",
    "import matplotlib.pyplot as plt\n",
    "\n",
    "import torch\n",
    "import torch.nn \n",
    "import torch.optim as optim\n",
    "\n",
    "from torchvision import transforms\n",
    "from torch.utils.data import Dataset, DataLoader\n",
    "\n",
    "from PIL import Image\n",
    "\n",
    "plt.rcParams[\"font.family\"] = \"Malgun Gothic\"\n",
    "plt.rcParams[\"axes.unicode_minus\"] = False\n",
    "\n",
    "device = torch.device(\"cuda\" if torch.cuda.is_available() else \"cpu\")\n",
    "print(device)\n",
    "\n",
    "random.seed(42)"
   ]
  },
  {
   "cell_type": "code",
   "execution_count": 2,
   "id": "064b3cfa",
   "metadata": {},
   "outputs": [],
   "source": [
    "class ImageTransform:\n",
    "    def __init__(self, resize, mean, std):\n",
    "        self.data_transform = {\n",
    "            \"train\": transforms.Compose([\n",
    "                transforms.Resize((resize, resize)),\n",
    "                transforms.RandomHorizontalFlip(p=0.5),\n",
    "                transforms.ToTensor(),\n",
    "                transforms.Normalize(mean, std)\n",
    "                ]),\n",
    "            \"val\": transforms.Compose([\n",
    "                transforms.Resize((resize, resize)),\n",
    "                transforms.ToTensor(),\n",
    "                transforms.Normalize(mean, std)\n",
    "                ]),\n",
    "            \"test\": transforms.Compose([\n",
    "                transforms.Resize((resize, resize)),\n",
    "                transforms.ToTensor(),\n",
    "                transforms.Normalize(mean, std)\n",
    "                ]),\n",
    "        }\n",
    "    def __call__(self, img, phase):\n",
    "        return self.data_transform[phase](img)"
   ]
  },
  {
   "cell_type": "code",
   "execution_count": 3,
   "id": "8ba51534",
   "metadata": {},
   "outputs": [],
   "source": [
    "class DogVsCatDataset(Dataset):\n",
    "    def __init__(self, file_list, transform=None, phase=\"train\"):\n",
    "        self.file_list = file_list\n",
    "        self.transform = transform\n",
    "        self.phase = phase\n",
    "\n",
    "    def __len__(self):\n",
    "        return len(self.file_list)\n",
    "\n",
    "    def __getitem__(self, index):\n",
    "        img_path = self.file_list[index]\n",
    "        img = Image.open(img_path).convert(\"RGB\")\n",
    "        img_transform = self.transform(img, self.phase)\n",
    "        if \"dog\" in img_path.lower():\n",
    "            label = 1\n",
    "        else:\n",
    "            label = 0\n",
    "        return img_transform, label            "
   ]
  },
  {
   "cell_type": "code",
   "execution_count": 4,
   "id": "5e32c64b",
   "metadata": {},
   "outputs": [],
   "source": [
    "\n",
    "\n",
    "cat_directory = Path(\"data/catanddog/train/Cat\")\n",
    "dog_directory = Path(\"data/catanddog/train/Dog\")\n",
    "cat_images_filepaths = sorted([str(p) for p in cat_directory.glob(\"*.jpg\")])\n",
    "dog_images_filepaths = sorted([str(p) for p in dog_directory.glob(\"*.jpg\")])\n",
    "images_filepath = cat_images_filepaths + dog_images_filepaths\n",
    "random.shuffle(images_filepath)"
   ]
  },
  {
   "cell_type": "code",
   "execution_count": 5,
   "id": "11df1dbf",
   "metadata": {},
   "outputs": [],
   "source": [
    "total_images = len(images_filepath)\n",
    "train_size = int(total_images * 0.7)\n",
    "val_size = int(total_images * 0.2)\n",
    "test_size = total_images - (train_size + val_size)"
   ]
  },
  {
   "cell_type": "code",
   "execution_count": 6,
   "id": "5e698b9f",
   "metadata": {},
   "outputs": [],
   "source": [
    "train_images_filepaths = images_filepath[:train_size]\n",
    "val_images_filepaths = images_filepath[train_size: train_size + val_size]\n",
    "test_images_filepaths = images_filepath[train_size + val_size: train_size + val_size + test_size]"
   ]
  },
  {
   "cell_type": "code",
   "execution_count": 7,
   "id": "37fa05c4",
   "metadata": {},
   "outputs": [],
   "source": [
    "size = 224,\n",
    "mean= (0.485, 0.456, 0.406)\n",
    "std = (0.229, 0.224, 0.225)\n",
    "batch_size = 32"
   ]
  },
  {
   "cell_type": "code",
   "execution_count": 8,
   "id": "01b57cbf",
   "metadata": {},
   "outputs": [],
   "source": [
    "train_dataset = DogVsCatDataset(train_images_filepaths, transform=ImageTransform(size, mean, std), phase=\"train\")\n",
    "val_dataset = DogVsCatDataset(val_images_filepaths, transform=ImageTransform(size, mean, std), phase=\"val\")\n",
    "test_dataset = DogVsCatDataset(test_images_filepaths, transform=ImageTransform(size, mean, std), phase=\"test\")"
   ]
  },
  {
   "cell_type": "code",
   "execution_count": null,
   "id": "c30c5385",
   "metadata": {},
   "outputs": [],
   "source": []
  }
 ],
 "metadata": {
  "kernelspec": {
   "display_name": "Python 3",
   "language": "python",
   "name": "python3"
  },
  "language_info": {
   "codemirror_mode": {
    "name": "ipython",
    "version": 3
   },
   "file_extension": ".py",
   "mimetype": "text/x-python",
   "name": "python",
   "nbconvert_exporter": "python",
   "pygments_lexer": "ipython3",
   "version": "3.13.7"
  }
 },
 "nbformat": 4,
 "nbformat_minor": 5
}
