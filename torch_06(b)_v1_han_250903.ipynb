{
 "cells": [
  {
   "cell_type": "markdown",
   "id": "efb78264",
   "metadata": {},
   "source": [
    "# ResNet-50을 활용하자\n"
   ]
  },
  {
   "cell_type": "code",
   "execution_count": 1,
   "id": "5d36146c",
   "metadata": {},
   "outputs": [
    {
     "name": "stdout",
     "output_type": "stream",
     "text": [
      "cpu\n"
     ]
    }
   ],
   "source": [
    "import random\n",
    "import time\n",
    "from pathlib import Path\n",
    "\n",
    "import numpy as np\n",
    "import pandas as pd\n",
    "import matplotlib.pyplot as plt\n",
    "\n",
    "import torch\n",
    "import torch.nn as nn\n",
    "import torch.optim as optim\n",
    "\n",
    "from torchvision import transforms\n",
    "from torch.utils.data import Dataset, DataLoader\n",
    "\n",
    "from PIL import Image\n",
    "from tqdm import tqdm\n",
    "\n",
    "plt.rcParams[\"font.family\"] = \"Malgun Gothic\"\n",
    "plt.rcParams[\"axes.unicode_minus\"] = False\n",
    "\n",
    "device = torch.device(\"cuda\" if torch.cuda.is_available() else \"cpu\")\n",
    "print(device)\n",
    "\n",
    "random.seed(42)"
   ]
  },
  {
   "cell_type": "code",
   "execution_count": 2,
   "id": "064b3cfa",
   "metadata": {},
   "outputs": [],
   "source": [
    "class ImageTransform:\n",
    "    def __init__(self, resize, mean, std):\n",
    "        self.data_transform = {\n",
    "            \"train\": transforms.Compose([\n",
    "                transforms.Resize((resize, resize)),\n",
    "                transforms.RandomHorizontalFlip(p=0.5),\n",
    "                transforms.ToTensor(),\n",
    "                transforms.Normalize(mean, std)\n",
    "                ]),\n",
    "            \"val\": transforms.Compose([\n",
    "                transforms.Resize((resize, resize)),\n",
    "                transforms.ToTensor(),\n",
    "                transforms.Normalize(mean, std)\n",
    "                ]),\n",
    "            \"test\": transforms.Compose([\n",
    "                transforms.Resize((resize, resize)),\n",
    "                transforms.ToTensor(),\n",
    "                transforms.Normalize(mean, std)\n",
    "                ]),\n",
    "        }\n",
    "    def __call__(self, img, phase):\n",
    "        return self.data_transform[phase](img)"
   ]
  },
  {
   "cell_type": "code",
   "execution_count": 3,
   "id": "8ba51534",
   "metadata": {},
   "outputs": [],
   "source": [
    "class DogVsCatDataset(Dataset):\n",
    "    def __init__(self, file_list, transform=None, phase=\"train\"):\n",
    "        self.file_list = file_list\n",
    "        self.transform = transform\n",
    "        self.phase = phase\n",
    "\n",
    "    def __len__(self):\n",
    "        return len(self.file_list)\n",
    "\n",
    "    def __getitem__(self, index):\n",
    "        img_path = self.file_list[index]\n",
    "        img = Image.open(img_path).convert(\"RGB\")\n",
    "        img_transform = self.transform(img, self.phase)\n",
    "        if \"dog\" in img_path.lower():\n",
    "            label = 1\n",
    "        else:\n",
    "            label = 0\n",
    "        return img_transform, label            "
   ]
  },
  {
   "cell_type": "code",
   "execution_count": 4,
   "id": "5e32c64b",
   "metadata": {},
   "outputs": [],
   "source": [
    "cat_directory = Path(\"data/catanddog/train/Cat\")\n",
    "dog_directory = Path(\"data/catanddog/train/Dog\")\n",
    "cat_images_filepaths = sorted([str(p) for p in cat_directory.glob(\"*.jpg\")])\n",
    "dog_images_filepaths = sorted([str(p) for p in dog_directory.glob(\"*.jpg\")])\n",
    "images_filepath = cat_images_filepaths + dog_images_filepaths\n",
    "random.shuffle(images_filepath)"
   ]
  },
  {
   "cell_type": "code",
   "execution_count": 5,
   "id": "11df1dbf",
   "metadata": {},
   "outputs": [],
   "source": [
    "total_images = len(images_filepath)\n",
    "train_size = int(total_images * 0.7)\n",
    "val_size = int(total_images * 0.2)\n",
    "test_size = total_images - (train_size + val_size)"
   ]
  },
  {
   "cell_type": "code",
   "execution_count": 6,
   "id": "5e698b9f",
   "metadata": {},
   "outputs": [],
   "source": [
    "train_images_filepaths = images_filepath[:train_size]\n",
    "val_images_filepaths = images_filepath[train_size: train_size + val_size]\n",
    "test_images_filepaths = images_filepath[train_size + val_size: train_size + val_size + test_size]"
   ]
  },
  {
   "cell_type": "code",
   "execution_count": 7,
   "id": "37fa05c4",
   "metadata": {},
   "outputs": [],
   "source": [
    "size = 224\n",
    "mean= (0.485, 0.456, 0.406)\n",
    "std = (0.229, 0.224, 0.225)\n",
    "batch_size = 32"
   ]
  },
  {
   "cell_type": "code",
   "execution_count": 8,
   "id": "01b57cbf",
   "metadata": {},
   "outputs": [],
   "source": [
    "train_dataset = DogVsCatDataset(train_images_filepaths, \n",
    "                                transform=ImageTransform(size, mean, std), \n",
    "                                phase=\"train\")\n",
    "val_dataset = DogVsCatDataset(val_images_filepaths, \n",
    "                              transform=ImageTransform(size, mean, std), \n",
    "                              phase=\"val\")\n",
    "test_dataset = DogVsCatDataset(test_images_filepaths, \n",
    "                               transform=ImageTransform(size, mean, std), \n",
    "                               phase=\"test\")"
   ]
  },
  {
   "cell_type": "code",
   "execution_count": 9,
   "id": "c30c5385",
   "metadata": {},
   "outputs": [],
   "source": [
    "train_dataloader = DataLoader(train_dataset, batch_size=batch_size, shuffle=True, num_workers=0)\n",
    "val_dataloader = DataLoader(val_dataset, batch_size=batch_size, shuffle=False, num_workers=0)\n",
    "test_dataloader = DataLoader(test_dataset, batch_size=batch_size, shuffle=False, num_workers=0)"
   ]
  },
  {
   "cell_type": "code",
   "execution_count": 10,
   "id": "ba6f33ba",
   "metadata": {},
   "outputs": [],
   "source": [
    "dataloader_dic = {\n",
    "    \"train\": train_dataloader,\n",
    "    \"val\": val_dataloader,\n",
    "    \"test\": test_dataloader\n",
    "}"
   ]
  },
  {
   "cell_type": "code",
   "execution_count": null,
   "id": "2ccb7d70",
   "metadata": {},
   "outputs": [],
   "source": [
    "# batch_size 는 일반적으로 32, 64로 한다. "
   ]
  },
  {
   "cell_type": "code",
   "execution_count": 11,
   "id": "88296879",
   "metadata": {},
   "outputs": [],
   "source": [
    "# 6@28x28(C) -> 6@14x14(S) -> 16@10x10 -> 16@5x5 (특성맵 => OOPool)\n",
    "class LeNet5(nn.Module):\n",
    "    def __init__(self):\n",
    "        super(LeNet5, self).__init__()\n",
    "        self.c1 = nn.Conv2d(in_channels=3, out_channels=6, kernel_size=5, stride=1, padding=0)\n",
    "        self.s2 = nn.AvgPool2d(kernel_size=2, stride=2) \n",
    "        self.c3 = nn.Conv2d(in_channels=6, out_channels=16, kernel_size=5, stride=1, padding=0)\n",
    "        self.s4 = nn.AvgPool2d(kernel_size=2, stride=2) # 16x53\n",
    "        self.f5 = nn.Linear(53*53*16, 120)\n",
    "        self.f6 = nn.Linear(120, 64)\n",
    "        self.output = nn.Linear(64, 2)\n",
    "\n",
    "    def forward(self, x):\n",
    "        x = torch.tanh(self.c1(x))\n",
    "        x = self.s2(x)\n",
    "        x = torch.tanh(self.c3(x))\n",
    "        x = self.s4(x)        \n",
    "        x = x.view(x.size(0), -1)\n",
    "        x = torch.tanh(self.f5(x))\n",
    "        x = torch.tanh(self.f6(x))\n",
    "        x = self.output(x)\n",
    "\n",
    "        return x"
   ]
  },
  {
   "cell_type": "code",
   "execution_count": 12,
   "id": "6299c9cc",
   "metadata": {},
   "outputs": [],
   "source": [
    "def train_model(model, dataloader_dic, criterion, optimizer, num_epoch):\n",
    "    since = time.time()\n",
    "    best_acc = 0.0\n",
    "\n",
    "    for epoch in range(num_epoch):\n",
    "        print(f\"Epoch: {epoch + 1} / {num_epoch}\")\n",
    "        print(\"-\" * 20)\n",
    "        \n",
    "        for phase in [\"train\", \"val\"]:\n",
    "            if phase == \"train\":\n",
    "                model.train()\n",
    "            else:\n",
    "                model.eval()            \n",
    "            epoch_loss = 0.0\n",
    "            epoch_corrects = 0\n",
    "            \n",
    "            for inputs, labels in tqdm(dataloader_dic[phase]):\n",
    "                inputs = inputs.to(device)\n",
    "                labels = labels.to(device)\n",
    "                optimizer.zero_grad()\n",
    "                with torch.set_grad_enabled(phase == \"train\"):\n",
    "                    outputs = model(inputs)\n",
    "                    _, preds = torch.max(outputs, 1)\n",
    "                    loss = criterion(outputs, labels)\n",
    "                    if phase == \"train\":\n",
    "                        loss.backward()\n",
    "                        optimizer.step()                    \n",
    "                    epoch_loss += loss.item() * inputs.size(0)\n",
    "                    epoch_corrects += torch.sum(preds == labels.data)\n",
    "            \n",
    "            epoch_loss = epoch_loss / len(dataloader_dic[phase].dataset)\n",
    "            epoch_acc = epoch_corrects.double() / len(dataloader_dic[phase].dataset)            \n",
    "            print(f\"loss: {epoch_loss}, acc: {epoch_acc}\")\n",
    "\n",
    "            if phase == \"val\" and epoch_acc > best_acc:\n",
    "                best_acc = epoch_acc\n",
    "                bst_model_wts = model.state_dict() # 최적의 매개변수를 저장\n",
    "    time_elapsed = time.time() - since\n",
    "    print(f\"best acc: {best_acc}, end: {time_elapsed % 60}s\")\n",
    "    return model"
   ]
  },
  {
   "cell_type": "code",
   "execution_count": 13,
   "id": "faf7d9c6",
   "metadata": {},
   "outputs": [
    {
     "name": "stdout",
     "output_type": "stream",
     "text": [
      "Epoch: 1 / 10\n",
      "--------------------\n"
     ]
    },
    {
     "name": "stderr",
     "output_type": "stream",
     "text": [
      "100%|██████████| 9/9 [00:02<00:00,  3.96it/s]\n"
     ]
    },
    {
     "name": "stdout",
     "output_type": "stream",
     "text": [
      "loss: 0.5604471714966359, acc: 0.8066914498141264\n"
     ]
    },
    {
     "name": "stderr",
     "output_type": "stream",
     "text": [
      "100%|██████████| 3/3 [00:00<00:00,  7.55it/s]\n"
     ]
    },
    {
     "name": "stdout",
     "output_type": "stream",
     "text": [
      "loss: 0.29351162097670813, acc: 1.0\n",
      "Epoch: 2 / 10\n",
      "--------------------\n"
     ]
    },
    {
     "name": "stderr",
     "output_type": "stream",
     "text": [
      "100%|██████████| 9/9 [00:01<00:00,  4.73it/s]\n"
     ]
    },
    {
     "name": "stdout",
     "output_type": "stream",
     "text": [
      "loss: 0.15418655716132054, acc: 1.0\n"
     ]
    },
    {
     "name": "stderr",
     "output_type": "stream",
     "text": [
      "100%|██████████| 3/3 [00:00<00:00,  9.74it/s]\n"
     ]
    },
    {
     "name": "stdout",
     "output_type": "stream",
     "text": [
      "loss: 0.06036133435252425, acc: 1.0\n",
      "Epoch: 3 / 10\n",
      "--------------------\n"
     ]
    },
    {
     "name": "stderr",
     "output_type": "stream",
     "text": [
      "100%|██████████| 9/9 [00:01<00:00,  4.72it/s]\n"
     ]
    },
    {
     "name": "stdout",
     "output_type": "stream",
     "text": [
      "loss: 0.042593045748742536, acc: 1.0\n"
     ]
    },
    {
     "name": "stderr",
     "output_type": "stream",
     "text": [
      "100%|██████████| 3/3 [00:00<00:00,  9.55it/s]\n"
     ]
    },
    {
     "name": "stdout",
     "output_type": "stream",
     "text": [
      "loss: 0.025895379217607633, acc: 1.0\n",
      "Epoch: 4 / 10\n",
      "--------------------\n"
     ]
    },
    {
     "name": "stderr",
     "output_type": "stream",
     "text": [
      "100%|██████████| 9/9 [00:02<00:00,  4.31it/s]\n"
     ]
    },
    {
     "name": "stdout",
     "output_type": "stream",
     "text": [
      "loss: 0.021153735460845067, acc: 1.0\n"
     ]
    },
    {
     "name": "stderr",
     "output_type": "stream",
     "text": [
      "100%|██████████| 3/3 [00:00<00:00,  9.77it/s]\n"
     ]
    },
    {
     "name": "stdout",
     "output_type": "stream",
     "text": [
      "loss: 0.016202409763808375, acc: 1.0\n",
      "Epoch: 5 / 10\n",
      "--------------------\n"
     ]
    },
    {
     "name": "stderr",
     "output_type": "stream",
     "text": [
      "100%|██████████| 9/9 [00:01<00:00,  4.71it/s]\n"
     ]
    },
    {
     "name": "stdout",
     "output_type": "stream",
     "text": [
      "loss: 0.014314236271724824, acc: 1.0\n"
     ]
    },
    {
     "name": "stderr",
     "output_type": "stream",
     "text": [
      "100%|██████████| 3/3 [00:00<00:00, 10.04it/s]\n"
     ]
    },
    {
     "name": "stdout",
     "output_type": "stream",
     "text": [
      "loss: 0.012187413919668693, acc: 1.0\n",
      "Epoch: 6 / 10\n",
      "--------------------\n"
     ]
    },
    {
     "name": "stderr",
     "output_type": "stream",
     "text": [
      "100%|██████████| 9/9 [00:01<00:00,  4.74it/s]\n"
     ]
    },
    {
     "name": "stdout",
     "output_type": "stream",
     "text": [
      "loss: 0.011202693536019015, acc: 1.0\n"
     ]
    },
    {
     "name": "stderr",
     "output_type": "stream",
     "text": [
      "100%|██████████| 3/3 [00:00<00:00, 10.05it/s]\n"
     ]
    },
    {
     "name": "stdout",
     "output_type": "stream",
     "text": [
      "loss: 0.010017785001788047, acc: 1.0\n",
      "Epoch: 7 / 10\n",
      "--------------------\n"
     ]
    },
    {
     "name": "stderr",
     "output_type": "stream",
     "text": [
      "100%|██████████| 9/9 [00:01<00:00,  4.77it/s]\n"
     ]
    },
    {
     "name": "stdout",
     "output_type": "stream",
     "text": [
      "loss: 0.009401413224305141, acc: 1.0\n"
     ]
    },
    {
     "name": "stderr",
     "output_type": "stream",
     "text": [
      "100%|██████████| 3/3 [00:00<00:00,  9.77it/s]\n"
     ]
    },
    {
     "name": "stdout",
     "output_type": "stream",
     "text": [
      "loss: 0.008633067686255876, acc: 1.0\n",
      "Epoch: 8 / 10\n",
      "--------------------\n"
     ]
    },
    {
     "name": "stderr",
     "output_type": "stream",
     "text": [
      "100%|██████████| 9/9 [00:01<00:00,  4.87it/s]\n"
     ]
    },
    {
     "name": "stdout",
     "output_type": "stream",
     "text": [
      "loss: 0.008203203097456672, acc: 1.0\n"
     ]
    },
    {
     "name": "stderr",
     "output_type": "stream",
     "text": [
      "100%|██████████| 3/3 [00:00<00:00,  9.71it/s]\n"
     ]
    },
    {
     "name": "stdout",
     "output_type": "stream",
     "text": [
      "loss: 0.007644314070945823, acc: 1.0\n",
      "Epoch: 9 / 10\n",
      "--------------------\n"
     ]
    },
    {
     "name": "stderr",
     "output_type": "stream",
     "text": [
      "100%|██████████| 9/9 [00:01<00:00,  4.76it/s]\n"
     ]
    },
    {
     "name": "stdout",
     "output_type": "stream",
     "text": [
      "loss: 0.007311759080363915, acc: 1.0\n"
     ]
    },
    {
     "name": "stderr",
     "output_type": "stream",
     "text": [
      "100%|██████████| 3/3 [00:00<00:00, 10.01it/s]\n"
     ]
    },
    {
     "name": "stdout",
     "output_type": "stream",
     "text": [
      "loss: 0.006885495980258112, acc: 1.0\n",
      "Epoch: 10 / 10\n",
      "--------------------\n"
     ]
    },
    {
     "name": "stderr",
     "output_type": "stream",
     "text": [
      "100%|██████████| 9/9 [00:01<00:00,  4.75it/s]\n"
     ]
    },
    {
     "name": "stdout",
     "output_type": "stream",
     "text": [
      "loss: 0.006618991045828313, acc: 1.0\n"
     ]
    },
    {
     "name": "stderr",
     "output_type": "stream",
     "text": [
      "100%|██████████| 3/3 [00:00<00:00,  8.33it/s]"
     ]
    },
    {
     "name": "stdout",
     "output_type": "stream",
     "text": [
      "loss: 0.006274312607605349, acc: 1.0\n",
      "best acc: 1.0, end: 22.742528915405273s\n"
     ]
    },
    {
     "name": "stderr",
     "output_type": "stream",
     "text": [
      "\n"
     ]
    }
   ],
   "source": [
    "model = LeNet5()\n",
    "model = model.to(device)\n",
    "optimizer = optim.SGD(model.parameters(), lr=0.002, momentum=0.9)\n",
    "criterion = nn.CrossEntropyLoss()\n",
    "criterion = criterion.to(device)\n",
    "num_epoch = 10\n",
    "model = train_model(model, dataloader_dic, criterion, optimizer, num_epoch)"
   ]
  },
  {
   "cell_type": "code",
   "execution_count": null,
   "id": "13674326",
   "metadata": {},
   "outputs": [],
   "source": []
  }
 ],
 "metadata": {
  "kernelspec": {
   "display_name": "Python 3",
   "language": "python",
   "name": "python3"
  },
  "language_info": {
   "codemirror_mode": {
    "name": "ipython",
    "version": 3
   },
   "file_extension": ".py",
   "mimetype": "text/x-python",
   "name": "python",
   "nbconvert_exporter": "python",
   "pygments_lexer": "ipython3",
   "version": "3.13.4"
  }
 },
 "nbformat": 4,
 "nbformat_minor": 5
}
